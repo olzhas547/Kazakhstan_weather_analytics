{
  "nbformat": 4,
  "nbformat_minor": 0,
  "metadata": {
    "colab": {
      "provenance": []
    },
    "kernelspec": {
      "name": "python3",
      "display_name": "Python 3"
    },
    "language_info": {
      "name": "python"
    }
  },
  "cells": [
    {
      "cell_type": "code",
      "execution_count": null,
      "metadata": {
        "colab": {
          "base_uri": "https://localhost:8080/"
        },
        "id": "ZxyBRll6KVPM",
        "outputId": "935d334a-d48c-4c16-d659-56beef4a4356"
      },
      "outputs": [
        {
          "output_type": "stream",
          "name": "stdout",
          "text": [
            "Looking in indexes: https://pypi.org/simple, https://us-python.pkg.dev/colab-wheels/public/simple/\n",
            "Collecting pyspark\n",
            "  Downloading pyspark-3.3.1.tar.gz (281.4 MB)\n",
            "\u001b[K     |████████████████████████████████| 281.4 MB 42 kB/s \n",
            "\u001b[?25hCollecting py4j==0.10.9.5\n",
            "  Downloading py4j-0.10.9.5-py2.py3-none-any.whl (199 kB)\n",
            "\u001b[K     |████████████████████████████████| 199 kB 63.4 MB/s \n",
            "\u001b[?25hBuilding wheels for collected packages: pyspark\n",
            "  Building wheel for pyspark (setup.py) ... \u001b[?25l\u001b[?25hdone\n",
            "  Created wheel for pyspark: filename=pyspark-3.3.1-py2.py3-none-any.whl size=281845512 sha256=275a0d3f83a64983bf482ef4620ffe9a1886f0e3b6143be1fccbe3f301f50112\n",
            "  Stored in directory: /root/.cache/pip/wheels/43/dc/11/ec201cd671da62fa9c5cc77078235e40722170ceba231d7598\n",
            "Successfully built pyspark\n",
            "Installing collected packages: py4j, pyspark\n",
            "Successfully installed py4j-0.10.9.5 pyspark-3.3.1\n"
          ]
        }
      ],
      "source": [
        "!pip install pyspark"
      ]
    },
    {
      "cell_type": "code",
      "source": [
        "from google.colab import drive\n",
        "\n",
        "drive.mount('/content/gdrive/', force_remount=True)"
      ],
      "metadata": {
        "colab": {
          "base_uri": "https://localhost:8080/"
        },
        "id": "J47najdWLxzk",
        "outputId": "3d91ae80-e99f-4cef-9734-bbc8895c0a9d"
      },
      "execution_count": null,
      "outputs": [
        {
          "output_type": "stream",
          "name": "stdout",
          "text": [
            "Mounted at /content/gdrive/\n"
          ]
        }
      ]
    },
    {
      "cell_type": "code",
      "source": [
        "from pyspark.sql import SparkSession\n",
        "from pyspark.sql.functions import udf, col, avg, round\n",
        "import matplotlib.pyplot as plt\n",
        "from pyspark.sql.types import StringType, IntegerType"
      ],
      "metadata": {
        "id": "S6SB04TZMxTf"
      },
      "execution_count": null,
      "outputs": []
    },
    {
      "cell_type": "code",
      "source": [
        "spark = SparkSession.builder.appName(\"BigDataProject\").getOrCreate()"
      ],
      "metadata": {
        "id": "vasyNpP_MmDW"
      },
      "execution_count": null,
      "outputs": []
    },
    {
      "cell_type": "code",
      "source": [
        "df = spark.read.option('header', True).csv('/content/gdrive/MyDrive/pogoda.csv')"
      ],
      "metadata": {
        "id": "dyoaO_2jN51B"
      },
      "execution_count": null,
      "outputs": []
    },
    {
      "cell_type": "code",
      "source": [
        "df.show()"
      ],
      "metadata": {
        "colab": {
          "base_uri": "https://localhost:8080/"
        },
        "id": "wdtKQgZOObSI",
        "outputId": "a48fc912-7ad4-40d7-f977-5d08beba0b5b"
      },
      "execution_count": null,
      "outputs": [
        {
          "output_type": "stream",
          "name": "stdout",
          "text": [
            "+------+----+-----+----+-------------+---------------+-----------+---------------+----------+------------+--------+------------+-----------+-------------+---------+-------------+---------+-----------+-------+-----------+\n",
            "|  city|date|month|year|weather_night|weather_morning|weather_day|weather_evening|temp_night|temp_morning|temp_day|temp_evening|press_night|press_morning|press_day|press_evening|hum_night|hum_morning|hum_day|hum_evening|\n",
            "+------+----+-----+----+-------------+---------------+-----------+---------------+----------+------------+--------+------------+-----------+-------------+---------+-------------+---------+-----------+-------+-----------+\n",
            "|Astana|  06|   02|2018|  малооблачно|       пасмурно|   пасмурно|           ясно|      -19°|        -20°|    -14°|        -11°|        766|          766|      780|          780|      75%|        85%|    84%|        85%|\n",
            "|Astana|  05|   02|2018|     пасмурно|       пасмурно|малооблачно|           ясно|      -23°|        -26°|    -16°|        -14°|        771|          777|      777|          777|      91%|        83%|    84%|        77%|\n",
            "|Astana|  04|   02|2018|     пасмурно|       пасмурно|   пасмурно|           ясно|      -13°|        -17°|    -12°|        -14°|        773|          768|      776|          776|      92%|        91%|    84%|        71%|\n",
            "|Astana|  07|   02|2018|     пасмурно|       пасмурно|       ясно|    малооблачно|      -14°|        -13°|    -11°|        -13°|        768|          775|      782|          783|      81%|        84%|    92%|        84%|\n",
            "|Astana|  01|   02|2018|      облачно|           ясно|       ясно|           ясно|      -20°|        -22°|    -17°|        -16°|        756|          757|      771|          771|      64%|        64%|    77%|        77%|\n",
            "|Astana|  02|   02|2018|  малооблачно|        облачно|       ясно|           ясно|      -24°|        -23°|    -17°|        -14°|        758|          763|      768|          768|      60%|        83%|    83%|        84%|\n",
            "|Astana|  03|   02|2018|      облачно|       пасмурно|   пасмурно|       пасмурно|      -25°|        -14°|     -8°|         -9°|        757|          763|      770|          771|      53%|        84%|    78%|        78%|\n",
            "|Astana|  08|   02|2018|     пасмурно|       пасмурно|   пасмурно|           ясно|      -13°|        -12°|    -10°|        -10°|        772|          773|      786|          786|      83%|        79%|    92%|        78%|\n",
            "|Astana|  09|   02|2018|     пасмурно|       пасмурно|       ясно|           ясно|      -12°|        -12°|     -8°|         -8°|        771|          777|      782|          780|      88%|        87%|    92%|        78%|\n",
            "|Astana|  16|   02|2018|     пасмурно|           ясно|    облачно|           ясно|      -22°|        -25°|    -15°|        -11°|        764|          772|      774|          776|      83%|        83%|    92%|        72%|\n",
            "|Astana|  14|   02|2018|     пасмурно|       пасмурно|   пасмурно|           снег|      -16°|        -16°|    -16°|        -16°|        749|          748|      759|          759|      86%|        84%|    83%|        77%|\n",
            "|Astana|  13|   02|2018|     пасмурно|       пасмурно|   пасмурно|       пасмурно|      -17°|        -17°|    -18°|        -17°|        753|          753|      763|          762|      87%|        82%|    84%|        84%|\n",
            "|Astana|  11|   02|2018|     пасмурно|       пасмурно|   пасмурно|           ясно|      -14°|        -14°|    -15°|        -15°|        758|          763|      769|          768|      80%|        84%|    92%|        92%|\n",
            "|Astana|  10|   02|2018|     пасмурно|       пасмурно|малооблачно|           ясно|      -12°|        -13°|    -11°|        -13°|        764|          762|      772|          771|      85%|        85%|    85%|        92%|\n",
            "|Astana|  12|   02|2018|     пасмурно|       пасмурно|       ясно|           ясно|      -15°|        -15°|    -11°|        -13°|        755|          755|      766|          765|      82%|        81%|    91%|        84%|\n",
            "|Astana|  15|   02|2018|     пасмурно|       пасмурно|       снег|           снег|      -16°|        -15°|    -13°|        -12°|        749|          755|      763|          765|      85%|        86%|    92%|        85%|\n",
            "|Astana|  23|   02|2018|     пасмурно|       пасмурно|       ясно|           ясно|      -10°|        -11°|    -11°|        -10°|        752|          759|      765|          764|      84%|        91%|    84%|        78%|\n",
            "|Astana|  21|   02|2018|     пасмурно|       пасмурно|       ясно|           ясно|       -7°|         -8°|     -4°|         -4°|        751|          754|      757|          756|      79%|        76%|    73%|        73%|\n",
            "|Astana|  17|   02|2018|     пасмурно|       пасмурно|малооблачно|           ясно|      -14°|        -12°|     -9°|        -10°|        765|          771|      778|          778|      73%|       100%|    92%|        72%|\n",
            "|Astana|  18|   02|2018|     пасмурно|       пасмурно|   пасмурно|       пасмурно|      -21°|        -11°|    -11°|         -9°|        771|          771|      777|          777|      91%|        84%|    92%|        78%|\n",
            "+------+----+-----+----+-------------+---------------+-----------+---------------+----------+------------+--------+------------+-----------+-------------+---------+-------------+---------+-----------+-------+-----------+\n",
            "only showing top 20 rows\n",
            "\n"
          ]
        }
      ]
    },
    {
      "cell_type": "code",
      "source": [
        "df.dropDuplicates(['weather_night']).select('weather_night').show()"
      ],
      "metadata": {
        "colab": {
          "base_uri": "https://localhost:8080/"
        },
        "id": "SIhLQBbyRFF5",
        "outputId": "9c3dde20-f369-47fb-975d-e98170eb0338"
      },
      "execution_count": null,
      "outputs": [
        {
          "output_type": "stream",
          "name": "stdout",
          "text": [
            "+---------------+\n",
            "|  weather_night|\n",
            "+---------------+\n",
            "|          дождь|\n",
            "|           смог|\n",
            "|           снег|\n",
            "|          туман|\n",
            "|        облачно|\n",
            "|       пасмурно|\n",
            "|          гроза|\n",
            "|небольшой дождь|\n",
            "|    малооблачно|\n",
            "|           пыль|\n",
            "|   легкий туман|\n",
            "|           ясно|\n",
            "+---------------+\n",
            "\n"
          ]
        }
      ]
    },
    {
      "cell_type": "code",
      "source": [
        "translator = {\n",
        "    'дождь': 'rainy',\n",
        "    'смог': 'smoggy',\n",
        "    'снег': 'snowy',\n",
        "    'туман': 'foggy',\n",
        "    'облачно': 'cloudy',\n",
        "    'пасмурно': 'overcast',\n",
        "    'гроза': 'stormy',\n",
        "    'небольшой дождь': 'light rain',\n",
        "    'малооблачно': 'partly cloudy',\n",
        "    'пыль': 'dusty',\n",
        "    'легкий туман': 'light fog',\n",
        "    'ясно': 'clear',\n",
        "}\n",
        "\n",
        "df = df.replace(to_replace=translator, subset=['weather_night', 'weather_morning', 'weather_day', 'weather_evening'])"
      ],
      "metadata": {
        "id": "muke0janRNtG"
      },
      "execution_count": null,
      "outputs": []
    },
    {
      "cell_type": "code",
      "source": [
        "df.dropDuplicates(['weather_morning']).select('weather_morning').show()"
      ],
      "metadata": {
        "colab": {
          "base_uri": "https://localhost:8080/"
        },
        "id": "7lu6NjRCSzfF",
        "outputId": "17463706-7bcd-447a-af4d-fc34feeac421"
      },
      "execution_count": null,
      "outputs": [
        {
          "output_type": "stream",
          "name": "stdout",
          "text": [
            "+---------------+\n",
            "|weather_morning|\n",
            "+---------------+\n",
            "|          rainy|\n",
            "|          dusty|\n",
            "|          snowy|\n",
            "|      light fog|\n",
            "|         stormy|\n",
            "|  partly cloudy|\n",
            "|     light rain|\n",
            "|          clear|\n",
            "|         cloudy|\n",
            "|         smoggy|\n",
            "|       overcast|\n",
            "|          foggy|\n",
            "+---------------+\n",
            "\n"
          ]
        }
      ]
    },
    {
      "cell_type": "code",
      "source": [
        "print(f'Shape: ({df.count()}, {len(df.columns)})')"
      ],
      "metadata": {
        "colab": {
          "base_uri": "https://localhost:8080/"
        },
        "id": "Apdfhf4WTOwT",
        "outputId": "ca79c139-eae1-4300-81c7-abf56f093e83"
      },
      "execution_count": null,
      "outputs": [
        {
          "output_type": "stream",
          "name": "stdout",
          "text": [
            "Shape: (35140, 20)\n"
          ]
        }
      ]
    },
    {
      "cell_type": "code",
      "source": [
        "df.show()"
      ],
      "metadata": {
        "colab": {
          "base_uri": "https://localhost:8080/"
        },
        "id": "1yikWLCUUefN",
        "outputId": "b1af682c-5941-4324-af16-8e22c0f464b5"
      },
      "execution_count": null,
      "outputs": [
        {
          "output_type": "stream",
          "name": "stdout",
          "text": [
            "+------+----+-----+----+-------------+---------------+-------------+---------------+----------+------------+--------+------------+-----------+-------------+---------+-------------+---------+-----------+-------+-----------+\n",
            "|  city|date|month|year|weather_night|weather_morning|  weather_day|weather_evening|temp_night|temp_morning|temp_day|temp_evening|press_night|press_morning|press_day|press_evening|hum_night|hum_morning|hum_day|hum_evening|\n",
            "+------+----+-----+----+-------------+---------------+-------------+---------------+----------+------------+--------+------------+-----------+-------------+---------+-------------+---------+-----------+-------+-----------+\n",
            "|Astana|  06|   02|2018|partly cloudy|       overcast|     overcast|          clear|      -19°|        -20°|    -14°|        -11°|        766|          766|      780|          780|      75%|        85%|    84%|        85%|\n",
            "|Astana|  05|   02|2018|     overcast|       overcast|partly cloudy|          clear|      -23°|        -26°|    -16°|        -14°|        771|          777|      777|          777|      91%|        83%|    84%|        77%|\n",
            "|Astana|  04|   02|2018|     overcast|       overcast|     overcast|          clear|      -13°|        -17°|    -12°|        -14°|        773|          768|      776|          776|      92%|        91%|    84%|        71%|\n",
            "|Astana|  07|   02|2018|     overcast|       overcast|        clear|  partly cloudy|      -14°|        -13°|    -11°|        -13°|        768|          775|      782|          783|      81%|        84%|    92%|        84%|\n",
            "|Astana|  01|   02|2018|       cloudy|          clear|        clear|          clear|      -20°|        -22°|    -17°|        -16°|        756|          757|      771|          771|      64%|        64%|    77%|        77%|\n",
            "|Astana|  02|   02|2018|partly cloudy|         cloudy|        clear|          clear|      -24°|        -23°|    -17°|        -14°|        758|          763|      768|          768|      60%|        83%|    83%|        84%|\n",
            "|Astana|  03|   02|2018|       cloudy|       overcast|     overcast|       overcast|      -25°|        -14°|     -8°|         -9°|        757|          763|      770|          771|      53%|        84%|    78%|        78%|\n",
            "|Astana|  08|   02|2018|     overcast|       overcast|     overcast|          clear|      -13°|        -12°|    -10°|        -10°|        772|          773|      786|          786|      83%|        79%|    92%|        78%|\n",
            "|Astana|  09|   02|2018|     overcast|       overcast|        clear|          clear|      -12°|        -12°|     -8°|         -8°|        771|          777|      782|          780|      88%|        87%|    92%|        78%|\n",
            "|Astana|  16|   02|2018|     overcast|          clear|       cloudy|          clear|      -22°|        -25°|    -15°|        -11°|        764|          772|      774|          776|      83%|        83%|    92%|        72%|\n",
            "|Astana|  14|   02|2018|     overcast|       overcast|     overcast|          snowy|      -16°|        -16°|    -16°|        -16°|        749|          748|      759|          759|      86%|        84%|    83%|        77%|\n",
            "|Astana|  13|   02|2018|     overcast|       overcast|     overcast|       overcast|      -17°|        -17°|    -18°|        -17°|        753|          753|      763|          762|      87%|        82%|    84%|        84%|\n",
            "|Astana|  11|   02|2018|     overcast|       overcast|     overcast|          clear|      -14°|        -14°|    -15°|        -15°|        758|          763|      769|          768|      80%|        84%|    92%|        92%|\n",
            "|Astana|  10|   02|2018|     overcast|       overcast|partly cloudy|          clear|      -12°|        -13°|    -11°|        -13°|        764|          762|      772|          771|      85%|        85%|    85%|        92%|\n",
            "|Astana|  12|   02|2018|     overcast|       overcast|        clear|          clear|      -15°|        -15°|    -11°|        -13°|        755|          755|      766|          765|      82%|        81%|    91%|        84%|\n",
            "|Astana|  15|   02|2018|     overcast|       overcast|        snowy|          snowy|      -16°|        -15°|    -13°|        -12°|        749|          755|      763|          765|      85%|        86%|    92%|        85%|\n",
            "|Astana|  23|   02|2018|     overcast|       overcast|        clear|          clear|      -10°|        -11°|    -11°|        -10°|        752|          759|      765|          764|      84%|        91%|    84%|        78%|\n",
            "|Astana|  21|   02|2018|     overcast|       overcast|        clear|          clear|       -7°|         -8°|     -4°|         -4°|        751|          754|      757|          756|      79%|        76%|    73%|        73%|\n",
            "|Astana|  17|   02|2018|     overcast|       overcast|partly cloudy|          clear|      -14°|        -12°|     -9°|        -10°|        765|          771|      778|          778|      73%|       100%|    92%|        72%|\n",
            "|Astana|  18|   02|2018|     overcast|       overcast|     overcast|       overcast|      -21°|        -11°|    -11°|         -9°|        771|          771|      777|          777|      91%|        84%|    92%|        78%|\n",
            "+------+----+-----+----+-------------+---------------+-------------+---------------+----------+------------+--------+------------+-----------+-------------+---------+-------------+---------+-----------+-------+-----------+\n",
            "only showing top 20 rows\n",
            "\n"
          ]
        }
      ]
    },
    {
      "cell_type": "code",
      "source": [
        "print(*set([df.select('city').where(col(column).isNull()).count() for column in df.columns]))"
      ],
      "metadata": {
        "id": "lBxWHLb6WlZ3",
        "colab": {
          "base_uri": "https://localhost:8080/"
        },
        "outputId": "7cc23265-f288-4bcd-bf10-b4d108d3fcfc"
      },
      "execution_count": null,
      "outputs": [
        {
          "output_type": "stream",
          "name": "stdout",
          "text": [
            "0\n"
          ]
        }
      ]
    },
    {
      "cell_type": "code",
      "source": [
        "def temperature_formatter(temp):\n",
        "    if temp[0] == '+':\n",
        "      return temp[1:-1]\n",
        "    elif temp[0] == '-':\n",
        "      return temp[:-1]\n",
        "    return temp[0]\n",
        "udf_temperature_formmater = udf(lambda x: temperature_formatter(x), StringType())"
      ],
      "metadata": {
        "id": "eRRKty7ZuCc_"
      },
      "execution_count": null,
      "outputs": []
    },
    {
      "cell_type": "code",
      "source": [
        "df.select(udf_temperature_formmater(col('temp_night')).alias('temp_night')).show()"
      ],
      "metadata": {
        "colab": {
          "base_uri": "https://localhost:8080/"
        },
        "id": "F7y0FvTUwCyf",
        "outputId": "784d8edc-9c87-424d-c2f0-ecb53a0a21b7"
      },
      "execution_count": null,
      "outputs": [
        {
          "output_type": "stream",
          "name": "stdout",
          "text": [
            "+----------+\n",
            "|temp_night|\n",
            "+----------+\n",
            "|       -19|\n",
            "|       -23|\n",
            "|       -13|\n",
            "|       -14|\n",
            "|       -20|\n",
            "|       -24|\n",
            "|       -25|\n",
            "|       -13|\n",
            "|       -12|\n",
            "|       -22|\n",
            "|       -16|\n",
            "|       -17|\n",
            "|       -14|\n",
            "|       -12|\n",
            "|       -15|\n",
            "|       -16|\n",
            "|       -10|\n",
            "|        -7|\n",
            "|       -14|\n",
            "|       -21|\n",
            "+----------+\n",
            "only showing top 20 rows\n",
            "\n"
          ]
        }
      ]
    },
    {
      "cell_type": "code",
      "source": [
        "df.columns"
      ],
      "metadata": {
        "colab": {
          "base_uri": "https://localhost:8080/"
        },
        "id": "FXDXp8mZx8Xc",
        "outputId": "205c5853-682e-413f-fba1-3715106cbf29"
      },
      "execution_count": null,
      "outputs": [
        {
          "output_type": "execute_result",
          "data": {
            "text/plain": [
              "['city',\n",
              " 'date',\n",
              " 'month',\n",
              " 'year',\n",
              " 'weather_night',\n",
              " 'weather_morning',\n",
              " 'weather_day',\n",
              " 'weather_evening',\n",
              " 'temp_night',\n",
              " 'temp_morning',\n",
              " 'temp_day',\n",
              " 'temp_evening',\n",
              " 'press_night',\n",
              " 'press_morning',\n",
              " 'press_day',\n",
              " 'press_evening',\n",
              " 'hum_night',\n",
              " 'hum_morning',\n",
              " 'hum_day',\n",
              " 'hum_evening']"
            ]
          },
          "metadata": {},
          "execution_count": 15
        }
      ]
    },
    {
      "cell_type": "code",
      "source": [
        "df = df.withColumn(\n",
        "      'temp_night1', udf_temperature_formmater(df.temp_night)\n",
        "      ).withColumn(\n",
        "      'temp_morning1', udf_temperature_formmater(df.temp_morning)\n",
        "      ).withColumn(\n",
        "      'temp_day1', udf_temperature_formmater(df.temp_day)\n",
        "      ).withColumn(\n",
        "      'temp_evening1', udf_temperature_formmater(df.temp_evening)\n",
        "      ).select('city',\n",
        "        'date',\n",
        "        'month',\n",
        "        'year',\n",
        "        'weather_night',\n",
        "        'weather_morning',\n",
        "        'weather_day',\n",
        "        'weather_evening',\n",
        "        col('temp_night1').alias('temp_night'),\n",
        "        col('temp_morning1').alias('temp_morning'),\n",
        "        col('temp_day1').alias('temp_day'),\n",
        "        col('temp_evening1').alias('temp_evening'),\n",
        "        'press_night',\n",
        "        'press_morning',\n",
        "        'press_day',\n",
        "        'press_evening',\n",
        "        'hum_night',\n",
        "        'hum_morning',\n",
        "        'hum_day',\n",
        "        'hum_evening')"
      ],
      "metadata": {
        "id": "gmW6jdnWx2dL"
      },
      "execution_count": null,
      "outputs": []
    },
    {
      "cell_type": "code",
      "source": [
        "df.show()"
      ],
      "metadata": {
        "colab": {
          "base_uri": "https://localhost:8080/"
        },
        "id": "_AYYJSig1d__",
        "outputId": "aa2732a0-932c-4023-9ca4-d48c94b3ec22"
      },
      "execution_count": null,
      "outputs": [
        {
          "output_type": "stream",
          "name": "stdout",
          "text": [
            "+------+----+-----+----+-------------+---------------+-------------+---------------+----------+------------+--------+------------+-----------+-------------+---------+-------------+---------+-----------+-------+-----------+\n",
            "|  city|date|month|year|weather_night|weather_morning|  weather_day|weather_evening|temp_night|temp_morning|temp_day|temp_evening|press_night|press_morning|press_day|press_evening|hum_night|hum_morning|hum_day|hum_evening|\n",
            "+------+----+-----+----+-------------+---------------+-------------+---------------+----------+------------+--------+------------+-----------+-------------+---------+-------------+---------+-----------+-------+-----------+\n",
            "|Astana|  06|   02|2018|partly cloudy|       overcast|     overcast|          clear|       -19|         -20|     -14|         -11|        766|          766|      780|          780|      75%|        85%|    84%|        85%|\n",
            "|Astana|  05|   02|2018|     overcast|       overcast|partly cloudy|          clear|       -23|         -26|     -16|         -14|        771|          777|      777|          777|      91%|        83%|    84%|        77%|\n",
            "|Astana|  04|   02|2018|     overcast|       overcast|     overcast|          clear|       -13|         -17|     -12|         -14|        773|          768|      776|          776|      92%|        91%|    84%|        71%|\n",
            "|Astana|  07|   02|2018|     overcast|       overcast|        clear|  partly cloudy|       -14|         -13|     -11|         -13|        768|          775|      782|          783|      81%|        84%|    92%|        84%|\n",
            "|Astana|  01|   02|2018|       cloudy|          clear|        clear|          clear|       -20|         -22|     -17|         -16|        756|          757|      771|          771|      64%|        64%|    77%|        77%|\n",
            "|Astana|  02|   02|2018|partly cloudy|         cloudy|        clear|          clear|       -24|         -23|     -17|         -14|        758|          763|      768|          768|      60%|        83%|    83%|        84%|\n",
            "|Astana|  03|   02|2018|       cloudy|       overcast|     overcast|       overcast|       -25|         -14|      -8|          -9|        757|          763|      770|          771|      53%|        84%|    78%|        78%|\n",
            "|Astana|  08|   02|2018|     overcast|       overcast|     overcast|          clear|       -13|         -12|     -10|         -10|        772|          773|      786|          786|      83%|        79%|    92%|        78%|\n",
            "|Astana|  09|   02|2018|     overcast|       overcast|        clear|          clear|       -12|         -12|      -8|          -8|        771|          777|      782|          780|      88%|        87%|    92%|        78%|\n",
            "|Astana|  16|   02|2018|     overcast|          clear|       cloudy|          clear|       -22|         -25|     -15|         -11|        764|          772|      774|          776|      83%|        83%|    92%|        72%|\n",
            "|Astana|  14|   02|2018|     overcast|       overcast|     overcast|          snowy|       -16|         -16|     -16|         -16|        749|          748|      759|          759|      86%|        84%|    83%|        77%|\n",
            "|Astana|  13|   02|2018|     overcast|       overcast|     overcast|       overcast|       -17|         -17|     -18|         -17|        753|          753|      763|          762|      87%|        82%|    84%|        84%|\n",
            "|Astana|  11|   02|2018|     overcast|       overcast|     overcast|          clear|       -14|         -14|     -15|         -15|        758|          763|      769|          768|      80%|        84%|    92%|        92%|\n",
            "|Astana|  10|   02|2018|     overcast|       overcast|partly cloudy|          clear|       -12|         -13|     -11|         -13|        764|          762|      772|          771|      85%|        85%|    85%|        92%|\n",
            "|Astana|  12|   02|2018|     overcast|       overcast|        clear|          clear|       -15|         -15|     -11|         -13|        755|          755|      766|          765|      82%|        81%|    91%|        84%|\n",
            "|Astana|  15|   02|2018|     overcast|       overcast|        snowy|          snowy|       -16|         -15|     -13|         -12|        749|          755|      763|          765|      85%|        86%|    92%|        85%|\n",
            "|Astana|  23|   02|2018|     overcast|       overcast|        clear|          clear|       -10|         -11|     -11|         -10|        752|          759|      765|          764|      84%|        91%|    84%|        78%|\n",
            "|Astana|  21|   02|2018|     overcast|       overcast|        clear|          clear|        -7|          -8|      -4|          -4|        751|          754|      757|          756|      79%|        76%|    73%|        73%|\n",
            "|Astana|  17|   02|2018|     overcast|       overcast|partly cloudy|          clear|       -14|         -12|      -9|         -10|        765|          771|      778|          778|      73%|       100%|    92%|        72%|\n",
            "|Astana|  18|   02|2018|     overcast|       overcast|     overcast|       overcast|       -21|         -11|     -11|          -9|        771|          771|      777|          777|      91%|        84%|    92%|        78%|\n",
            "+------+----+-----+----+-------------+---------------+-------------+---------------+----------+------------+--------+------------+-----------+-------------+---------+-------------+---------+-----------+-------+-----------+\n",
            "only showing top 20 rows\n",
            "\n"
          ]
        }
      ]
    },
    {
      "cell_type": "code",
      "source": [
        "df.dropDuplicates(['temp_morning']).select('temp_morning').show()"
      ],
      "metadata": {
        "colab": {
          "base_uri": "https://localhost:8080/"
        },
        "id": "1Uoz5ncu1jeV",
        "outputId": "ff9ad422-e191-493f-96e9-36f51d6af303"
      },
      "execution_count": null,
      "outputs": [
        {
          "output_type": "stream",
          "name": "stdout",
          "text": [
            "+------------+\n",
            "|temp_morning|\n",
            "+------------+\n",
            "|          -4|\n",
            "|         -30|\n",
            "|           7|\n",
            "|          -1|\n",
            "|          15|\n",
            "|          -6|\n",
            "|          11|\n",
            "|          29|\n",
            "|         -39|\n",
            "|           3|\n",
            "|          30|\n",
            "|          34|\n",
            "|           8|\n",
            "|          -7|\n",
            "|          22|\n",
            "|          28|\n",
            "|          16|\n",
            "|          35|\n",
            "|         -22|\n",
            "|           0|\n",
            "+------------+\n",
            "only showing top 20 rows\n",
            "\n"
          ]
        }
      ]
    },
    {
      "cell_type": "code",
      "source": [
        "def humidity_formatter(hum):\n",
        "    return hum[:-1]\n",
        "udf_thumidity_formmater = udf(lambda x: humidity_formatter(x), StringType())"
      ],
      "metadata": {
        "id": "e0_aeqGE1qxA"
      },
      "execution_count": null,
      "outputs": []
    },
    {
      "cell_type": "code",
      "source": [
        "df = df.withColumn(\n",
        "      'hum_night1', udf_thumidity_formmater(df.hum_night)\n",
        "      ).withColumn(\n",
        "      'hum_morning1', udf_thumidity_formmater(df.hum_morning)\n",
        "      ).withColumn(\n",
        "      'hum_day1', udf_thumidity_formmater(df.hum_day)\n",
        "      ).withColumn(\n",
        "      'hum_evening1', udf_thumidity_formmater(df.hum_evening)\n",
        "      ).select('city',\n",
        "        'date',\n",
        "        'month',\n",
        "        'year',\n",
        "        'weather_night',\n",
        "        'weather_morning',\n",
        "        'weather_day',\n",
        "        'weather_evening',\n",
        "        col('hum_night1').alias('hum_night'),\n",
        "        col('hum_morning1').alias('hum_morning'),\n",
        "        col('hum_day1').alias('hum_day'),\n",
        "        col('hum_evening1').alias('hum_evening'),\n",
        "        'press_night',\n",
        "        'press_morning',\n",
        "        'press_day',\n",
        "        'press_evening',\n",
        "        'temp_night',\n",
        "        'temp_morning',\n",
        "        'temp_day',\n",
        "        'temp_evening')"
      ],
      "metadata": {
        "id": "IX36Rjt03FT0"
      },
      "execution_count": null,
      "outputs": []
    },
    {
      "cell_type": "code",
      "source": [
        "df.show()"
      ],
      "metadata": {
        "colab": {
          "base_uri": "https://localhost:8080/"
        },
        "id": "2tnKFyI53jDU",
        "outputId": "bd196dba-7ce1-49dd-e4b5-5c6fbf13fba3"
      },
      "execution_count": null,
      "outputs": [
        {
          "output_type": "stream",
          "name": "stdout",
          "text": [
            "+------+----+-----+----+-------------+---------------+-------------+---------------+---------+-----------+-------+-----------+-----------+-------------+---------+-------------+----------+------------+--------+------------+\n",
            "|  city|date|month|year|weather_night|weather_morning|  weather_day|weather_evening|hum_night|hum_morning|hum_day|hum_evening|press_night|press_morning|press_day|press_evening|temp_night|temp_morning|temp_day|temp_evening|\n",
            "+------+----+-----+----+-------------+---------------+-------------+---------------+---------+-----------+-------+-----------+-----------+-------------+---------+-------------+----------+------------+--------+------------+\n",
            "|Astana|  06|   02|2018|partly cloudy|       overcast|     overcast|          clear|       75|         85|     84|         85|        766|          766|      780|          780|       -19|         -20|     -14|         -11|\n",
            "|Astana|  05|   02|2018|     overcast|       overcast|partly cloudy|          clear|       91|         83|     84|         77|        771|          777|      777|          777|       -23|         -26|     -16|         -14|\n",
            "|Astana|  04|   02|2018|     overcast|       overcast|     overcast|          clear|       92|         91|     84|         71|        773|          768|      776|          776|       -13|         -17|     -12|         -14|\n",
            "|Astana|  07|   02|2018|     overcast|       overcast|        clear|  partly cloudy|       81|         84|     92|         84|        768|          775|      782|          783|       -14|         -13|     -11|         -13|\n",
            "|Astana|  01|   02|2018|       cloudy|          clear|        clear|          clear|       64|         64|     77|         77|        756|          757|      771|          771|       -20|         -22|     -17|         -16|\n",
            "|Astana|  02|   02|2018|partly cloudy|         cloudy|        clear|          clear|       60|         83|     83|         84|        758|          763|      768|          768|       -24|         -23|     -17|         -14|\n",
            "|Astana|  03|   02|2018|       cloudy|       overcast|     overcast|       overcast|       53|         84|     78|         78|        757|          763|      770|          771|       -25|         -14|      -8|          -9|\n",
            "|Astana|  08|   02|2018|     overcast|       overcast|     overcast|          clear|       83|         79|     92|         78|        772|          773|      786|          786|       -13|         -12|     -10|         -10|\n",
            "|Astana|  09|   02|2018|     overcast|       overcast|        clear|          clear|       88|         87|     92|         78|        771|          777|      782|          780|       -12|         -12|      -8|          -8|\n",
            "|Astana|  16|   02|2018|     overcast|          clear|       cloudy|          clear|       83|         83|     92|         72|        764|          772|      774|          776|       -22|         -25|     -15|         -11|\n",
            "|Astana|  14|   02|2018|     overcast|       overcast|     overcast|          snowy|       86|         84|     83|         77|        749|          748|      759|          759|       -16|         -16|     -16|         -16|\n",
            "|Astana|  13|   02|2018|     overcast|       overcast|     overcast|       overcast|       87|         82|     84|         84|        753|          753|      763|          762|       -17|         -17|     -18|         -17|\n",
            "|Astana|  11|   02|2018|     overcast|       overcast|     overcast|          clear|       80|         84|     92|         92|        758|          763|      769|          768|       -14|         -14|     -15|         -15|\n",
            "|Astana|  10|   02|2018|     overcast|       overcast|partly cloudy|          clear|       85|         85|     85|         92|        764|          762|      772|          771|       -12|         -13|     -11|         -13|\n",
            "|Astana|  12|   02|2018|     overcast|       overcast|        clear|          clear|       82|         81|     91|         84|        755|          755|      766|          765|       -15|         -15|     -11|         -13|\n",
            "|Astana|  15|   02|2018|     overcast|       overcast|        snowy|          snowy|       85|         86|     92|         85|        749|          755|      763|          765|       -16|         -15|     -13|         -12|\n",
            "|Astana|  23|   02|2018|     overcast|       overcast|        clear|          clear|       84|         91|     84|         78|        752|          759|      765|          764|       -10|         -11|     -11|         -10|\n",
            "|Astana|  21|   02|2018|     overcast|       overcast|        clear|          clear|       79|         76|     73|         73|        751|          754|      757|          756|        -7|          -8|      -4|          -4|\n",
            "|Astana|  17|   02|2018|     overcast|       overcast|partly cloudy|          clear|       73|        100|     92|         72|        765|          771|      778|          778|       -14|         -12|      -9|         -10|\n",
            "|Astana|  18|   02|2018|     overcast|       overcast|     overcast|       overcast|       91|         84|     92|         78|        771|          771|      777|          777|       -21|         -11|     -11|          -9|\n",
            "+------+----+-----+----+-------------+---------------+-------------+---------------+---------+-----------+-------+-----------+-----------+-------------+---------+-------------+----------+------------+--------+------------+\n",
            "only showing top 20 rows\n",
            "\n"
          ]
        }
      ]
    },
    {
      "cell_type": "code",
      "source": [
        "df = df.withColumn(\n",
        "    \"hum_night1\", df.hum_night.cast(IntegerType())\n",
        "    ).withColumn(\n",
        "    \"hum_morning1\", df.hum_morning.cast(IntegerType())\n",
        "    ).withColumn(\n",
        "    \"hum_day1\", df.hum_day.cast(IntegerType())\n",
        "    ).withColumn(\n",
        "    \"hum_evening1\", df.hum_evening.cast(IntegerType())\n",
        "    ).withColumn(\n",
        "    \"press_night1\", df.press_night.cast(IntegerType())\n",
        "    ).withColumn(\n",
        "    \"press_morning1\", df.press_morning.cast(IntegerType())\n",
        "    ).withColumn(\n",
        "    \"press_day1\", df.press_day.cast(IntegerType())\n",
        "    ).withColumn(\n",
        "    \"press_evening1\", df.press_evening.cast(IntegerType())\n",
        "    ).withColumn(\n",
        "    \"temp_night1\", df.temp_night.cast(IntegerType())\n",
        "    ).withColumn(\n",
        "    \"temp_morning1\", df.temp_morning.cast(IntegerType())\n",
        "    ).withColumn(\n",
        "    \"temp_day1\", df.temp_day.cast(IntegerType())\n",
        "    ).withColumn(\n",
        "    \"temp_evening1\", df.temp_evening.cast(IntegerType())\n",
        "    ).select('city',\n",
        "        'date',\n",
        "        'month',\n",
        "        'year',\n",
        "        'weather_night',\n",
        "        'weather_morning',\n",
        "        'weather_day',\n",
        "        'weather_evening',\n",
        "        col('press_night1').alias('press_night'),\n",
        "        col('press_morning1').alias('press_morning'),\n",
        "        col('press_day1').alias('press_day'),\n",
        "        col('press_evening1').alias('press_evening'),\n",
        "        col('hum_night1').alias('hum_night'),\n",
        "        col('hum_morning1').alias('hum_morning'),\n",
        "        col('hum_day1').alias('hum_day'),\n",
        "        col('hum_evening1').alias('hum_evening'),\n",
        "        col('temp_night1').alias('temp_night'),\n",
        "        col('temp_morning1').alias('temp_morning'),\n",
        "        col('temp_day1').alias('temp_day'),\n",
        "        col('temp_evening1').alias('temp_evening'),\n",
        "    )"
      ],
      "metadata": {
        "id": "kKBBSEdT335B"
      },
      "execution_count": null,
      "outputs": []
    },
    {
      "cell_type": "code",
      "source": [
        "df.show()"
      ],
      "metadata": {
        "colab": {
          "base_uri": "https://localhost:8080/"
        },
        "id": "-sRWxuw263LI",
        "outputId": "988fa840-1c76-4cc2-8d12-f8846d75f5fb"
      },
      "execution_count": null,
      "outputs": [
        {
          "output_type": "stream",
          "name": "stdout",
          "text": [
            "+------+----+-----+----+-------------+---------------+-------------+---------------+-----------+-------------+---------+-------------+---------+-----------+-------+-----------+----------+------------+--------+------------+\n",
            "|  city|date|month|year|weather_night|weather_morning|  weather_day|weather_evening|press_night|press_morning|press_day|press_evening|hum_night|hum_morning|hum_day|hum_evening|temp_night|temp_morning|temp_day|temp_evening|\n",
            "+------+----+-----+----+-------------+---------------+-------------+---------------+-----------+-------------+---------+-------------+---------+-----------+-------+-----------+----------+------------+--------+------------+\n",
            "|Astana|  06|   02|2018|partly cloudy|       overcast|     overcast|          clear|        766|          766|      780|          780|       75|         85|     84|         85|       -19|         -20|     -14|         -11|\n",
            "|Astana|  05|   02|2018|     overcast|       overcast|partly cloudy|          clear|        771|          777|      777|          777|       91|         83|     84|         77|       -23|         -26|     -16|         -14|\n",
            "|Astana|  04|   02|2018|     overcast|       overcast|     overcast|          clear|        773|          768|      776|          776|       92|         91|     84|         71|       -13|         -17|     -12|         -14|\n",
            "|Astana|  07|   02|2018|     overcast|       overcast|        clear|  partly cloudy|        768|          775|      782|          783|       81|         84|     92|         84|       -14|         -13|     -11|         -13|\n",
            "|Astana|  01|   02|2018|       cloudy|          clear|        clear|          clear|        756|          757|      771|          771|       64|         64|     77|         77|       -20|         -22|     -17|         -16|\n",
            "|Astana|  02|   02|2018|partly cloudy|         cloudy|        clear|          clear|        758|          763|      768|          768|       60|         83|     83|         84|       -24|         -23|     -17|         -14|\n",
            "|Astana|  03|   02|2018|       cloudy|       overcast|     overcast|       overcast|        757|          763|      770|          771|       53|         84|     78|         78|       -25|         -14|      -8|          -9|\n",
            "|Astana|  08|   02|2018|     overcast|       overcast|     overcast|          clear|        772|          773|      786|          786|       83|         79|     92|         78|       -13|         -12|     -10|         -10|\n",
            "|Astana|  09|   02|2018|     overcast|       overcast|        clear|          clear|        771|          777|      782|          780|       88|         87|     92|         78|       -12|         -12|      -8|          -8|\n",
            "|Astana|  16|   02|2018|     overcast|          clear|       cloudy|          clear|        764|          772|      774|          776|       83|         83|     92|         72|       -22|         -25|     -15|         -11|\n",
            "|Astana|  14|   02|2018|     overcast|       overcast|     overcast|          snowy|        749|          748|      759|          759|       86|         84|     83|         77|       -16|         -16|     -16|         -16|\n",
            "|Astana|  13|   02|2018|     overcast|       overcast|     overcast|       overcast|        753|          753|      763|          762|       87|         82|     84|         84|       -17|         -17|     -18|         -17|\n",
            "|Astana|  11|   02|2018|     overcast|       overcast|     overcast|          clear|        758|          763|      769|          768|       80|         84|     92|         92|       -14|         -14|     -15|         -15|\n",
            "|Astana|  10|   02|2018|     overcast|       overcast|partly cloudy|          clear|        764|          762|      772|          771|       85|         85|     85|         92|       -12|         -13|     -11|         -13|\n",
            "|Astana|  12|   02|2018|     overcast|       overcast|        clear|          clear|        755|          755|      766|          765|       82|         81|     91|         84|       -15|         -15|     -11|         -13|\n",
            "|Astana|  15|   02|2018|     overcast|       overcast|        snowy|          snowy|        749|          755|      763|          765|       85|         86|     92|         85|       -16|         -15|     -13|         -12|\n",
            "|Astana|  23|   02|2018|     overcast|       overcast|        clear|          clear|        752|          759|      765|          764|       84|         91|     84|         78|       -10|         -11|     -11|         -10|\n",
            "|Astana|  21|   02|2018|     overcast|       overcast|        clear|          clear|        751|          754|      757|          756|       79|         76|     73|         73|        -7|          -8|      -4|          -4|\n",
            "|Astana|  17|   02|2018|     overcast|       overcast|partly cloudy|          clear|        765|          771|      778|          778|       73|        100|     92|         72|       -14|         -12|      -9|         -10|\n",
            "|Astana|  18|   02|2018|     overcast|       overcast|     overcast|       overcast|        771|          771|      777|          777|       91|         84|     92|         78|       -21|         -11|     -11|          -9|\n",
            "+------+----+-----+----+-------------+---------------+-------------+---------------+-----------+-------------+---------+-------------+---------+-----------+-------+-----------+----------+------------+--------+------------+\n",
            "only showing top 20 rows\n",
            "\n"
          ]
        }
      ]
    },
    {
      "cell_type": "code",
      "source": [
        "df.select(round(avg(col('press_night')), 2), round(avg(col('press_morning')), 2), round(avg(col('press_day')), 2), round(avg(col('press_evening')), 2)).show()"
      ],
      "metadata": {
        "id": "ryNtO6VA7G-Z",
        "colab": {
          "base_uri": "https://localhost:8080/"
        },
        "outputId": "e4968629-3d6d-477b-a5ee-bd56ee6679ad"
      },
      "execution_count": null,
      "outputs": [
        {
          "output_type": "stream",
          "name": "stdout",
          "text": [
            "+--------------------------+----------------------------+------------------------+----------------------------+\n",
            "|round(avg(press_night), 2)|round(avg(press_morning), 2)|round(avg(press_day), 2)|round(avg(press_evening), 2)|\n",
            "+--------------------------+----------------------------+------------------------+----------------------------+\n",
            "|                    759.93|                      759.88|                  759.96|                      759.75|\n",
            "+--------------------------+----------------------------+------------------------+----------------------------+\n",
            "\n"
          ]
        }
      ]
    },
    {
      "cell_type": "code",
      "source": [
        "presses = ['press_night', 'press_morning', 'press_day', 'press_evening']\n",
        "for press in presses:\n",
        "    df.select('city', press).groupBy('city').agg(round(avg(press), 2).alias('AVG')).orderBy('AVG').show()"
      ],
      "metadata": {
        "colab": {
          "base_uri": "https://localhost:8080/"
        },
        "id": "LMmy2XvcC4O-",
        "outputId": "5b5a437a-0eed-46c8-ad0d-2e1bb22e1cdc"
      },
      "execution_count": null,
      "outputs": [
        {
          "output_type": "stream",
          "name": "stdout",
          "text": [
            "+-----------+------+\n",
            "|       city|   AVG|\n",
            "+-----------+------+\n",
            "|Taldykorgan|745.63|\n",
            "|    Konayev|745.63|\n",
            "|     Almaty|745.63|\n",
            "|     Astana|760.75|\n",
            "|  Kokshetau|760.75|\n",
            "|   Shymkent|761.12|\n",
            "|  Turkestan|761.12|\n",
            "|      Taraz|761.71|\n",
            "|  Petropavl|762.07|\n",
            "|      Aktau|762.37|\n",
            "|  Kyzylorda|762.45|\n",
            "|   Kostanay|762.46|\n",
            "|     Atyrau|762.72|\n",
            "|       Oral|762.76|\n",
            "|     Aktobe|762.96|\n",
            "|   Pavlodar| 763.3|\n",
            "|  karaganda|763.52|\n",
            "|  Jezkazgan|763.52|\n",
            "|      Semey|764.08|\n",
            "|    Oskemen|764.08|\n",
            "+-----------+------+\n",
            "\n",
            "+-----------+------+\n",
            "|       city|   AVG|\n",
            "+-----------+------+\n",
            "|Taldykorgan|745.71|\n",
            "|    Konayev|745.71|\n",
            "|     Almaty|745.71|\n",
            "|     Astana|761.01|\n",
            "|  Kokshetau|761.01|\n",
            "|   Shymkent|761.03|\n",
            "|  Turkestan|761.03|\n",
            "|      Taraz|761.65|\n",
            "|  Petropavl|761.94|\n",
            "|      Aktau|762.02|\n",
            "|   Kostanay|762.18|\n",
            "|  Kyzylorda|762.31|\n",
            "|     Atyrau|762.48|\n",
            "|       Oral| 762.6|\n",
            "|     Aktobe|762.79|\n",
            "|   Pavlodar|763.23|\n",
            "|  karaganda|763.39|\n",
            "|  Jezkazgan|763.39|\n",
            "|      Semey| 764.2|\n",
            "|    Oskemen| 764.2|\n",
            "+-----------+------+\n",
            "\n",
            "+-----------+------+\n",
            "|       city|   AVG|\n",
            "+-----------+------+\n",
            "|Taldykorgan|744.88|\n",
            "|    Konayev|744.88|\n",
            "|     Almaty|744.88|\n",
            "|  Turkestan|761.47|\n",
            "|   Shymkent|761.47|\n",
            "|  Petropavl|761.75|\n",
            "|      Taraz|761.78|\n",
            "|     Astana|762.04|\n",
            "|  Kokshetau|762.04|\n",
            "|   Kostanay| 762.2|\n",
            "|      Aktau|762.46|\n",
            "|  Kyzylorda| 762.7|\n",
            "|       Oral|762.85|\n",
            "|     Atyrau|762.87|\n",
            "|     Aktobe| 763.0|\n",
            "|  Jezkazgan|763.22|\n",
            "|  karaganda|763.22|\n",
            "|   Pavlodar| 763.3|\n",
            "|      Semey|764.09|\n",
            "|    Oskemen|764.09|\n",
            "+-----------+------+\n",
            "\n",
            "+-----------+------+\n",
            "|       city|   AVG|\n",
            "+-----------+------+\n",
            "|Taldykorgan|745.09|\n",
            "|    Konayev|745.09|\n",
            "|     Almaty|745.09|\n",
            "|  Turkestan|761.13|\n",
            "|   Shymkent|761.13|\n",
            "|      Taraz|761.59|\n",
            "|      Aktau|761.76|\n",
            "|  Petropavl|761.87|\n",
            "|   Kostanay|761.88|\n",
            "|  Kyzylorda|762.11|\n",
            "|  Kokshetau|762.13|\n",
            "|     Astana|762.13|\n",
            "|     Atyrau|762.22|\n",
            "|       Oral|762.27|\n",
            "|     Aktobe|762.46|\n",
            "|   Pavlodar|763.03|\n",
            "|  karaganda|763.12|\n",
            "|  Jezkazgan|763.12|\n",
            "|      Semey|763.84|\n",
            "|    Oskemen|763.84|\n",
            "+-----------+------+\n",
            "\n"
          ]
        }
      ]
    },
    {
      "cell_type": "code",
      "source": [
        "humes = ['hum_night', 'hum_morning', 'hum_day', 'hum_evening']\n",
        "for hum in humes:\n",
        "    df.select('city', hum).groupBy('city').agg(round(avg(hum), 2).alias('AVG')).orderBy('AVG').show()"
      ],
      "metadata": {
        "colab": {
          "base_uri": "https://localhost:8080/"
        },
        "id": "Aq2Q3-mHF_FA",
        "outputId": "ec98feb6-0f00-4281-e8f6-9dea03d8532e"
      },
      "execution_count": null,
      "outputs": [
        {
          "output_type": "stream",
          "name": "stdout",
          "text": [
            "+-----------+-----+\n",
            "|       city|  AVG|\n",
            "+-----------+-----+\n",
            "|  Kyzylorda|59.01|\n",
            "|    Konayev|60.72|\n",
            "|     Almaty|60.72|\n",
            "|Taldykorgan|60.72|\n",
            "|  Turkestan|61.75|\n",
            "|   Shymkent|61.75|\n",
            "|      Aktau|64.18|\n",
            "|     Atyrau|64.68|\n",
            "|      Taraz|66.26|\n",
            "|     Aktobe|69.18|\n",
            "|       Oral|73.24|\n",
            "|  Jezkazgan|76.49|\n",
            "|  karaganda|76.49|\n",
            "|   Kostanay|77.04|\n",
            "|     Astana|77.99|\n",
            "|  Kokshetau|77.99|\n",
            "|   Pavlodar|78.22|\n",
            "|      Semey|80.18|\n",
            "|    Oskemen|80.18|\n",
            "|  Petropavl|80.49|\n",
            "+-----------+-----+\n",
            "\n",
            "+-----------+-----+\n",
            "|       city|  AVG|\n",
            "+-----------+-----+\n",
            "|Taldykorgan|61.75|\n",
            "|    Konayev|61.75|\n",
            "|     Almaty|61.75|\n",
            "|  Turkestan|66.91|\n",
            "|   Shymkent|66.91|\n",
            "|  Kyzylorda|67.14|\n",
            "|      Aktau|69.23|\n",
            "|      Taraz|70.83|\n",
            "|     Atyrau|72.24|\n",
            "|     Aktobe|76.27|\n",
            "|  karaganda| 79.2|\n",
            "|  Jezkazgan| 79.2|\n",
            "|       Oral|81.31|\n",
            "|   Kostanay|82.22|\n",
            "|     Astana|82.51|\n",
            "|  Kokshetau|82.51|\n",
            "|   Pavlodar|82.64|\n",
            "|      Semey|84.39|\n",
            "|    Oskemen|84.39|\n",
            "|  Petropavl|85.12|\n",
            "+-----------+-----+\n",
            "\n",
            "+-----------+-----+\n",
            "|       city|  AVG|\n",
            "+-----------+-----+\n",
            "|  Turkestan| 48.7|\n",
            "|   Shymkent| 48.7|\n",
            "|  Kyzylorda|50.14|\n",
            "|     Almaty|51.23|\n",
            "|Taldykorgan|51.23|\n",
            "|    Konayev|51.23|\n",
            "|      Taraz|52.01|\n",
            "|      Aktau|58.74|\n",
            "|     Atyrau|60.83|\n",
            "|  Jezkazgan|61.42|\n",
            "|  karaganda|61.42|\n",
            "|   Pavlodar|63.07|\n",
            "|     Aktobe|63.39|\n",
            "|    Oskemen|64.65|\n",
            "|      Semey|64.65|\n",
            "|     Astana|67.28|\n",
            "|  Kokshetau|67.28|\n",
            "|   Kostanay|67.44|\n",
            "|       Oral|68.54|\n",
            "|  Petropavl|70.45|\n",
            "+-----------+-----+\n",
            "\n",
            "+-----------+-----+\n",
            "|       city|  AVG|\n",
            "+-----------+-----+\n",
            "|  Kyzylorda|42.96|\n",
            "|   Shymkent|46.73|\n",
            "|  Turkestan|46.73|\n",
            "|     Atyrau| 50.2|\n",
            "|      Taraz|51.55|\n",
            "|     Aktobe|54.93|\n",
            "|      Aktau| 55.2|\n",
            "|     Almaty|55.37|\n",
            "|    Konayev|55.37|\n",
            "|Taldykorgan|55.37|\n",
            "|       Oral|58.26|\n",
            "|   Kostanay|61.93|\n",
            "|  Jezkazgan|62.63|\n",
            "|  karaganda|62.63|\n",
            "|   Pavlodar|62.87|\n",
            "|      Semey|66.05|\n",
            "|    Oskemen|66.05|\n",
            "|     Astana|69.63|\n",
            "|  Kokshetau|69.63|\n",
            "|  Petropavl|72.49|\n",
            "+-----------+-----+\n",
            "\n"
          ]
        }
      ]
    },
    {
      "cell_type": "code",
      "source": [
        "temps = ['temp_night', 'temp_morning', 'temp_day', 'temp_evening']\n",
        "for temp in temps:\n",
        "    print(temp)\n",
        "    df.select('city', temp).groupBy('city').agg(round(avg(temp), 2).alias('AVG')).orderBy('AVG').show()"
      ],
      "metadata": {
        "colab": {
          "base_uri": "https://localhost:8080/"
        },
        "id": "MrJezuxnG5mU",
        "outputId": "67cb6db5-399a-4259-adbd-0083cd0be84e"
      },
      "execution_count": null,
      "outputs": [
        {
          "output_type": "stream",
          "name": "stdout",
          "text": [
            "temp_night\n",
            "+-----------+-----+\n",
            "|       city|  AVG|\n",
            "+-----------+-----+\n",
            "|  Jezkazgan|-0.34|\n",
            "|  karaganda|-0.34|\n",
            "|      Semey| 0.81|\n",
            "|    Oskemen| 0.81|\n",
            "|   Pavlodar| 1.32|\n",
            "|  Petropavl| 1.35|\n",
            "|     Astana| 1.41|\n",
            "|  Kokshetau| 1.41|\n",
            "|   Kostanay| 1.98|\n",
            "|     Aktobe| 4.49|\n",
            "|       Oral| 5.07|\n",
            "|     Almaty| 6.02|\n",
            "|    Konayev| 6.02|\n",
            "|Taldykorgan| 6.02|\n",
            "|  Kyzylorda| 8.79|\n",
            "|      Taraz| 8.98|\n",
            "|     Atyrau| 9.65|\n",
            "|      Aktau|11.27|\n",
            "|  Turkestan|11.72|\n",
            "|   Shymkent|11.72|\n",
            "+-----------+-----+\n",
            "\n",
            "temp_morning\n",
            "+-----------+-----+\n",
            "|       city|  AVG|\n",
            "+-----------+-----+\n",
            "|  Jezkazgan| 1.45|\n",
            "|  karaganda| 1.45|\n",
            "|   Kostanay| 2.17|\n",
            "|  Petropavl| 2.19|\n",
            "|     Astana| 2.61|\n",
            "|  Kokshetau| 2.61|\n",
            "|   Pavlodar| 2.68|\n",
            "|      Semey| 2.69|\n",
            "|    Oskemen| 2.69|\n",
            "|     Aktobe| 3.76|\n",
            "|       Oral| 4.36|\n",
            "|  Kyzylorda| 8.12|\n",
            "|     Atyrau|  8.7|\n",
            "|    Konayev| 9.65|\n",
            "|     Almaty| 9.65|\n",
            "|Taldykorgan| 9.65|\n",
            "|      Taraz| 9.71|\n",
            "|      Aktau| 10.6|\n",
            "|  Turkestan|11.84|\n",
            "|   Shymkent|11.84|\n",
            "+-----------+-----+\n",
            "\n",
            "temp_day\n",
            "+-----------+-----+\n",
            "|       city|  AVG|\n",
            "+-----------+-----+\n",
            "|  Petropavl| 6.55|\n",
            "|  Kokshetau| 7.88|\n",
            "|     Astana| 7.88|\n",
            "|   Kostanay| 8.24|\n",
            "|  Jezkazgan| 8.55|\n",
            "|  karaganda| 8.55|\n",
            "|   Pavlodar| 8.68|\n",
            "|      Semey| 9.92|\n",
            "|    Oskemen| 9.92|\n",
            "|     Aktobe|10.48|\n",
            "|       Oral|10.85|\n",
            "|     Atyrau|15.28|\n",
            "|    Konayev|15.53|\n",
            "|Taldykorgan|15.53|\n",
            "|     Almaty|15.53|\n",
            "|      Taraz|16.96|\n",
            "|  Kyzylorda|17.13|\n",
            "|      Aktau|17.56|\n",
            "|  Turkestan|20.04|\n",
            "|   Shymkent|20.04|\n",
            "+-----------+-----+\n",
            "\n",
            "temp_evening\n",
            "+-----------+-----+\n",
            "|       city|  AVG|\n",
            "+-----------+-----+\n",
            "|  Petropavl| 7.11|\n",
            "|  Kokshetau| 7.96|\n",
            "|     Astana| 7.96|\n",
            "|  Jezkazgan| 8.44|\n",
            "|  karaganda| 8.44|\n",
            "|   Pavlodar| 8.59|\n",
            "|   Kostanay| 8.92|\n",
            "|      Semey| 9.24|\n",
            "|    Oskemen| 9.24|\n",
            "|     Aktobe|11.78|\n",
            "|       Oral|12.31|\n",
            "|     Almaty|13.39|\n",
            "|    Konayev|13.39|\n",
            "|Taldykorgan|13.39|\n",
            "|     Atyrau| 16.6|\n",
            "|      Taraz|16.89|\n",
            "|  Kyzylorda|18.06|\n",
            "|      Aktau| 18.2|\n",
            "|  Turkestan|20.14|\n",
            "|   Shymkent|20.14|\n",
            "+-----------+-----+\n",
            "\n"
          ]
        }
      ]
    },
    {
      "cell_type": "code",
      "source": [
        "presses = ['press_night', 'press_morning', 'press_day', 'press_evening']\n",
        "for press in presses:\n",
        "    df.select('month', press).groupBy('month').agg(round(avg(press), 2).alias('AVG')).orderBy('AVG').show()"
      ],
      "metadata": {
        "colab": {
          "base_uri": "https://localhost:8080/"
        },
        "id": "EvJZvMQiHUdh",
        "outputId": "a06b195a-4cc1-4372-e881-0b75b61928ca"
      },
      "execution_count": null,
      "outputs": [
        {
          "output_type": "stream",
          "name": "stdout",
          "text": [
            "+-----+------+\n",
            "|month|   AVG|\n",
            "+-----+------+\n",
            "|   07|752.58|\n",
            "|   06|754.25|\n",
            "|   08|755.13|\n",
            "|   05|757.85|\n",
            "|   09| 759.0|\n",
            "|   04|760.15|\n",
            "|   03|761.17|\n",
            "|   02|761.79|\n",
            "|   10|763.76|\n",
            "|   01|763.77|\n",
            "|   11|765.75|\n",
            "|   12|766.28|\n",
            "+-----+------+\n",
            "\n",
            "+-----+------+\n",
            "|month|   AVG|\n",
            "+-----+------+\n",
            "|   07|752.74|\n",
            "|   06| 754.3|\n",
            "|   08|755.23|\n",
            "|   05|757.98|\n",
            "|   09| 759.1|\n",
            "|   04|760.06|\n",
            "|   03|761.04|\n",
            "|   02|761.59|\n",
            "|   01|763.44|\n",
            "|   10|763.71|\n",
            "|   11|765.49|\n",
            "|   12|766.07|\n",
            "+-----+------+\n",
            "\n",
            "+-----+------+\n",
            "|month|   AVG|\n",
            "+-----+------+\n",
            "|   07|752.75|\n",
            "|   06|754.22|\n",
            "|   08|755.27|\n",
            "|   05|757.89|\n",
            "|   09|759.19|\n",
            "|   04|760.31|\n",
            "|   03|761.13|\n",
            "|   02|761.88|\n",
            "|   01|763.46|\n",
            "|   10|763.75|\n",
            "|   11|765.77|\n",
            "|   12|766.11|\n",
            "+-----+------+\n",
            "\n",
            "+-----+------+\n",
            "|month|   AVG|\n",
            "+-----+------+\n",
            "|   07|752.26|\n",
            "|   06|753.81|\n",
            "|   08|754.85|\n",
            "|   05|757.35|\n",
            "|   09|758.92|\n",
            "|   04|759.89|\n",
            "|   03|760.95|\n",
            "|   02|761.83|\n",
            "|   01|763.53|\n",
            "|   10|763.63|\n",
            "|   12|766.14|\n",
            "|   11|766.15|\n",
            "+-----+------+\n",
            "\n"
          ]
        }
      ]
    },
    {
      "cell_type": "code",
      "source": [
        "temps = ['temp_night', 'temp_morning', 'temp_day', 'temp_evening']\n",
        "for temp in temps:\n",
        "    df.select('month', temp).groupBy('month').agg(round(avg(temp), 2).alias('AVG')).orderBy('AVG').show()"
      ],
      "metadata": {
        "colab": {
          "base_uri": "https://localhost:8080/"
        },
        "id": "cis-GhP_H1lj",
        "outputId": "c5c2030b-8bc5-4f85-979f-15b16a66e4f9"
      },
      "execution_count": null,
      "outputs": [
        {
          "output_type": "stream",
          "name": "stdout",
          "text": [
            "+-----+-----+\n",
            "|month|  AVG|\n",
            "+-----+-----+\n",
            "|   01|-9.52|\n",
            "|   12|-8.68|\n",
            "|   02|-8.67|\n",
            "|   11|-4.06|\n",
            "|   03|-2.69|\n",
            "|   10| 4.83|\n",
            "|   04| 6.01|\n",
            "|   09|11.01|\n",
            "|   05|11.98|\n",
            "|   06|16.07|\n",
            "|   08|16.84|\n",
            "|   07|19.03|\n",
            "+-----+-----+\n",
            "\n",
            "+-----+-----+\n",
            "|month|  AVG|\n",
            "+-----+-----+\n",
            "|   01|-9.19|\n",
            "|   02|-8.44|\n",
            "|   12|-8.36|\n",
            "|   11|-3.87|\n",
            "|   03|-2.46|\n",
            "|   10| 4.96|\n",
            "|   04| 6.84|\n",
            "|   09|11.59|\n",
            "|   05|14.18|\n",
            "|   08|18.37|\n",
            "|   06|18.83|\n",
            "|   07|21.51|\n",
            "+-----+-----+\n",
            "\n",
            "+-----+-----+\n",
            "|month|  AVG|\n",
            "+-----+-----+\n",
            "|   01|-5.66|\n",
            "|   12|-4.82|\n",
            "|   02| -3.6|\n",
            "|   11| 0.48|\n",
            "|   03| 2.87|\n",
            "|   10| 12.6|\n",
            "|   04|14.59|\n",
            "|   09|20.41|\n",
            "|   05|22.21|\n",
            "|   06|26.18|\n",
            "|   08|27.38|\n",
            "|   07|29.52|\n",
            "+-----+-----+\n",
            "\n",
            "+-----+-----+\n",
            "|month|  AVG|\n",
            "+-----+-----+\n",
            "|   01|-6.28|\n",
            "|   12|-5.78|\n",
            "|   02|-3.56|\n",
            "|   11|-0.38|\n",
            "|   03| 3.14|\n",
            "|   10|12.17|\n",
            "|   04|14.97|\n",
            "|   09|20.58|\n",
            "|   05|22.56|\n",
            "|   06|26.36|\n",
            "|   08|27.78|\n",
            "|   07|29.76|\n",
            "+-----+-----+\n",
            "\n"
          ]
        }
      ]
    },
    {
      "cell_type": "code",
      "source": [
        "humes = ['hum_night', 'hum_morning', 'hum_day', 'hum_evening']\n",
        "for hum in humes:\n",
        "    df.select('month', hum).groupBy('month').agg(round(avg(hum), 2).alias('AVG')).orderBy('AVG').show()"
      ],
      "metadata": {
        "colab": {
          "base_uri": "https://localhost:8080/"
        },
        "id": "Xun13iLMIH_l",
        "outputId": "c77cf51e-8740-4923-94d7-f546896deed0"
      },
      "execution_count": null,
      "outputs": [
        {
          "output_type": "stream",
          "name": "stdout",
          "text": [
            "+-----+-----+\n",
            "|month|  AVG|\n",
            "+-----+-----+\n",
            "|   09|59.49|\n",
            "|   08|59.52|\n",
            "|   07|59.71|\n",
            "|   06|60.54|\n",
            "|   05|62.11|\n",
            "|   10|67.14|\n",
            "|   04|71.54|\n",
            "|   11| 79.0|\n",
            "|   03|82.48|\n",
            "|   12|82.48|\n",
            "|   02|82.55|\n",
            "|   01|83.89|\n",
            "+-----+-----+\n",
            "\n",
            "+-----+-----+\n",
            "|month|  AVG|\n",
            "+-----+-----+\n",
            "|   07|65.63|\n",
            "|   06|66.02|\n",
            "|   08|66.04|\n",
            "|   09|66.29|\n",
            "|   05|68.32|\n",
            "|   10|72.96|\n",
            "|   04|76.82|\n",
            "|   11|82.02|\n",
            "|   12|84.11|\n",
            "|   02|84.55|\n",
            "|   01|85.27|\n",
            "|   03|85.59|\n",
            "+-----+-----+\n",
            "\n",
            "+-----+-----+\n",
            "|month|  AVG|\n",
            "+-----+-----+\n",
            "|   07| 40.8|\n",
            "|   06|40.94|\n",
            "|   08|42.18|\n",
            "|   05|43.23|\n",
            "|   09|45.51|\n",
            "|   10|55.56|\n",
            "|   04|55.74|\n",
            "|   11|75.59|\n",
            "|   03|77.43|\n",
            "|   02|82.72|\n",
            "|   12| 83.0|\n",
            "|   01|84.05|\n",
            "+-----+-----+\n",
            "\n",
            "+-----+-----+\n",
            "|month|  AVG|\n",
            "+-----+-----+\n",
            "|   08|39.26|\n",
            "|   07|39.52|\n",
            "|   06|40.09|\n",
            "|   05|41.27|\n",
            "|   09|42.99|\n",
            "|   04|52.94|\n",
            "|   10|55.58|\n",
            "|   03|75.57|\n",
            "|   11|75.64|\n",
            "|   02|80.99|\n",
            "|   12|83.18|\n",
            "|   01|84.98|\n",
            "+-----+-----+\n",
            "\n"
          ]
        }
      ]
    },
    {
      "cell_type": "code",
      "source": [
        "df.select(round(avg(col('hum_night')), 2), round(avg(col('hum_morning')), 2), round(avg(col('hum_day')), 2), round(avg(col('hum_evening')), 2)).show()"
      ],
      "metadata": {
        "colab": {
          "base_uri": "https://localhost:8080/"
        },
        "id": "y_hyOCwSItHQ",
        "outputId": "fcff4591-c2f3-4d03-e1c9-0aef9e9ce256"
      },
      "execution_count": null,
      "outputs": [
        {
          "output_type": "stream",
          "name": "stdout",
          "text": [
            "+------------------------+--------------------------+----------------------+--------------------------+\n",
            "|round(avg(hum_night), 2)|round(avg(hum_morning), 2)|round(avg(hum_day), 2)|round(avg(hum_evening), 2)|\n",
            "+------------------------+--------------------------+----------------------+--------------------------+\n",
            "|                   70.37|                     74.92|                 59.62|                     58.33|\n",
            "+------------------------+--------------------------+----------------------+--------------------------+\n",
            "\n"
          ]
        }
      ]
    },
    {
      "cell_type": "code",
      "source": [
        "df.select(round(avg(col('temp_night')), 2), round(avg(col('temp_morning')), 2), round(avg(col('temp_day')), 2), round(avg(col('temp_evening')), 2)).show()"
      ],
      "metadata": {
        "colab": {
          "base_uri": "https://localhost:8080/"
        },
        "id": "BtUcwl5CIzax",
        "outputId": "89f50386-e7fc-40ce-80b6-99e92223887a"
      },
      "execution_count": null,
      "outputs": [
        {
          "output_type": "stream",
          "name": "stdout",
          "text": [
            "+-------------------------+---------------------------+-----------------------+---------------------------+\n",
            "|round(avg(temp_night), 2)|round(avg(temp_morning), 2)|round(avg(temp_day), 2)|round(avg(temp_evening), 2)|\n",
            "+-------------------------+---------------------------+-----------------------+---------------------------+\n",
            "|                     4.91|                       5.92|                  12.55|                      12.51|\n",
            "+-------------------------+---------------------------+-----------------------+---------------------------+\n",
            "\n"
          ]
        }
      ]
    },
    {
      "cell_type": "code",
      "source": [
        "temps = ['temp_night', 'temp_morning', 'temp_day', 'temp_evening']\n",
        "for temp in temps:\n",
        "    df.select('year', temp).where(col('year') < 2022).groupBy('year').agg(round(avg(temp), 2).alias('AVG')).orderBy('year').show()"
      ],
      "metadata": {
        "id": "pAzNYmQ8THL3",
        "outputId": "14194065-c51c-4246-cb79-e156a3cccf47",
        "colab": {
          "base_uri": "https://localhost:8080/"
        }
      },
      "execution_count": null,
      "outputs": [
        {
          "output_type": "stream",
          "name": "stdout",
          "text": [
            "+----+----+\n",
            "|year| AVG|\n",
            "+----+----+\n",
            "|2018|4.06|\n",
            "|2019|4.55|\n",
            "|2020|5.06|\n",
            "|2021|4.58|\n",
            "+----+----+\n",
            "\n",
            "+----+----+\n",
            "|year| AVG|\n",
            "+----+----+\n",
            "|2018|5.36|\n",
            "|2019| 5.5|\n",
            "|2020|5.91|\n",
            "|2021|5.52|\n",
            "+----+----+\n",
            "\n",
            "+----+-----+\n",
            "|year|  AVG|\n",
            "+----+-----+\n",
            "|2018|12.11|\n",
            "|2019|12.05|\n",
            "|2020|12.52|\n",
            "|2021| 12.0|\n",
            "+----+-----+\n",
            "\n",
            "+----+-----+\n",
            "|year|  AVG|\n",
            "+----+-----+\n",
            "|2018|12.11|\n",
            "|2019|11.92|\n",
            "|2020|12.43|\n",
            "|2021| 12.0|\n",
            "+----+-----+\n",
            "\n"
          ]
        }
      ]
    },
    {
      "cell_type": "code",
      "source": [
        "df.select('month', hum).groupBy('month').agg(round(avg(hum), 2).alias('AVG')).orderBy('AVG').show()"
      ],
      "metadata": {
        "id": "x55ddy1_I9bO"
      },
      "execution_count": null,
      "outputs": []
    },
    {
      "cell_type": "code",
      "source": [
        "temps = ['temp_night', 'temp_morning', 'temp_day', 'temp_evening']\n",
        "for hum in humes:\n",
        "    df.select('year', hum).where(col('year') < 2022).groupBy('year').agg(round(avg(hum), 2).alias('AVG')).orderBy('year').show()"
      ],
      "metadata": {
        "colab": {
          "base_uri": "https://localhost:8080/"
        },
        "id": "25m9S6cQwPeY",
        "outputId": "4dccab58-b2ea-4e21-d604-5b4e8829aa5e"
      },
      "execution_count": null,
      "outputs": [
        {
          "output_type": "stream",
          "name": "stdout",
          "text": [
            "+----+-----+\n",
            "|year|  AVG|\n",
            "+----+-----+\n",
            "|2018|74.87|\n",
            "|2019|71.62|\n",
            "|2020|70.06|\n",
            "|2021|67.62|\n",
            "+----+-----+\n",
            "\n",
            "+----+-----+\n",
            "|year|  AVG|\n",
            "+----+-----+\n",
            "|2018| 78.9|\n",
            "|2019|76.42|\n",
            "|2020|74.77|\n",
            "|2021|72.04|\n",
            "+----+-----+\n",
            "\n",
            "+----+-----+\n",
            "|year|  AVG|\n",
            "+----+-----+\n",
            "|2018|64.21|\n",
            "|2019|61.91|\n",
            "|2020| 59.2|\n",
            "|2021|57.02|\n",
            "+----+-----+\n",
            "\n",
            "+----+-----+\n",
            "|year|  AVG|\n",
            "+----+-----+\n",
            "|2018| 54.0|\n",
            "|2019|61.49|\n",
            "|2020|59.52|\n",
            "|2021|58.75|\n",
            "+----+-----+\n",
            "\n"
          ]
        }
      ]
    },
    {
      "cell_type": "code",
      "source": [
        "df.groupBy('weather_night').count().orderBy('count').show()"
      ],
      "metadata": {
        "colab": {
          "base_uri": "https://localhost:8080/"
        },
        "id": "e7AGiom8yUTN",
        "outputId": "690a1837-7604-4991-dfd0-95d2c5203249"
      },
      "execution_count": null,
      "outputs": [
        {
          "output_type": "stream",
          "name": "stdout",
          "text": [
            "+-------------+-----+\n",
            "|weather_night|count|\n",
            "+-------------+-----+\n",
            "|    light fog|    5|\n",
            "|   light rain|   27|\n",
            "|        dusty|   32|\n",
            "|       stormy|   42|\n",
            "|       smoggy|  110|\n",
            "|        rainy| 1339|\n",
            "|        snowy| 1369|\n",
            "|       cloudy| 1614|\n",
            "|        foggy| 2291|\n",
            "|partly cloudy| 3035|\n",
            "|     overcast|11529|\n",
            "|        clear|13747|\n",
            "+-------------+-----+\n",
            "\n"
          ]
        }
      ]
    },
    {
      "cell_type": "code",
      "source": [
        "weathers = df.groupBy('weather_night').count().orderBy('count').toPandas()"
      ],
      "metadata": {
        "id": "JnlVfgBFzBfZ"
      },
      "execution_count": null,
      "outputs": []
    },
    {
      "cell_type": "code",
      "source": [
        "fig = plt.figure(figsize =(10, 10))\n",
        "plt.pie(weathers['count'], labels=weathers['weather_night'])\n",
        "plt.show()"
      ],
      "metadata": {
        "colab": {
          "base_uri": "https://localhost:8080/",
          "height": 575
        },
        "id": "txWMbYTWzLVN",
        "outputId": "fb7c24d2-e72b-4c44-ac38-b7ec9e552f86"
      },
      "execution_count": null,
      "outputs": [
        {
          "output_type": "display_data",
          "data": {
            "text/plain": [
              "<Figure size 720x720 with 1 Axes>"
            ],
            "image/png": "[encoded data removed]"
          },
          "metadata": {}
        }
      ]
    },
    {
      "cell_type": "code",
      "source": [
        "weathers_day = df.groupBy('weather_day').count().orderBy('count').toPandas()"
      ],
      "metadata": {
        "id": "FyaLhW-O0oSB"
      },
      "execution_count": null,
      "outputs": []
    },
    {
      "cell_type": "code",
      "source": [
        "weathers_day"
      ],
      "metadata": {
        "colab": {
          "base_uri": "https://localhost:8080/",
          "height": 425
        },
        "id": "BEQHPGnc0zPa",
        "outputId": "f5bebc7e-2308-422d-e212-4c5e3492d464"
      },
      "execution_count": null,
      "outputs": [
        {
          "output_type": "execute_result",
          "data": {
            "text/plain": [
              "      weather_day  count\n",
              "0       light fog      8\n",
              "1          stormy      9\n",
              "2      light rain     12\n",
              "3           dusty     25\n",
              "4          smoggy     50\n",
              "5           rainy    652\n",
              "6           foggy    994\n",
              "7           snowy   1092\n",
              "8          cloudy   1555\n",
              "9   partly cloudy   3593\n",
              "10          clear  12903\n",
              "11       overcast  14247"
            ],
            "text/html": [
              "\n",
              "  <div id=\"df-e9339e98-50bc-4497-bc6a-c43aa9790729\">\n",
              "    <div class=\"colab-df-container\">\n",
              "      <div>\n",
              "<style scoped>\n",
              "    .dataframe tbody tr th:only-of-type {\n",
              "        vertical-align: middle;\n",
              "    }\n",
              "\n",
              "    .dataframe tbody tr th {\n",
              "        vertical-align: top;\n",
              "    }\n",
              "\n",
              "    .dataframe thead th {\n",
              "        text-align: right;\n",
              "    }\n",
              "</style>\n",
              "<table border=\"1\" class=\"dataframe\">\n",
              "  <thead>\n",
              "    <tr style=\"text-align: right;\">\n",
              "      <th></th>\n",
              "      <th>weather_day</th>\n",
              "      <th>count</th>\n",
              "    </tr>\n",
              "  </thead>\n",
              "  <tbody>\n",
              "    <tr>\n",
              "      <th>0</th>\n",
              "      <td>light fog</td>\n",
              "      <td>8</td>\n",
              "    </tr>\n",
              "    <tr>\n",
              "      <th>1</th>\n",
              "      <td>stormy</td>\n",
              "      <td>9</td>\n",
              "    </tr>\n",
              "    <tr>\n",
              "      <th>2</th>\n",
              "      <td>light rain</td>\n",
              "      <td>12</td>\n",
              "    </tr>\n",
              "    <tr>\n",
              "      <th>3</th>\n",
              "      <td>dusty</td>\n",
              "      <td>25</td>\n",
              "    </tr>\n",
              "    <tr>\n",
              "      <th>4</th>\n",
              "      <td>smoggy</td>\n",
              "      <td>50</td>\n",
              "    </tr>\n",
              "    <tr>\n",
              "      <th>5</th>\n",
              "      <td>rainy</td>\n",
              "      <td>652</td>\n",
              "    </tr>\n",
              "    <tr>\n",
              "      <th>6</th>\n",
              "      <td>foggy</td>\n",
              "      <td>994</td>\n",
              "    </tr>\n",
              "    <tr>\n",
              "      <th>7</th>\n",
              "      <td>snowy</td>\n",
              "      <td>1092</td>\n",
              "    </tr>\n",
              "    <tr>\n",
              "      <th>8</th>\n",
              "      <td>cloudy</td>\n",
              "      <td>1555</td>\n",
              "    </tr>\n",
              "    <tr>\n",
              "      <th>9</th>\n",
              "      <td>partly cloudy</td>\n",
              "      <td>3593</td>\n",
              "    </tr>\n",
              "    <tr>\n",
              "      <th>10</th>\n",
              "      <td>clear</td>\n",
              "      <td>12903</td>\n",
              "    </tr>\n",
              "    <tr>\n",
              "      <th>11</th>\n",
              "      <td>overcast</td>\n",
              "      <td>14247</td>\n",
              "    </tr>\n",
              "  </tbody>\n",
              "</table>\n",
              "</div>\n",
              "      <button class=\"colab-df-convert\" onclick=\"convertToInteractive('df-e9339e98-50bc-4497-bc6a-c43aa9790729')\"\n",
              "              title=\"Convert this dataframe to an interactive table.\"\n",
              "              style=\"display:none;\">\n",
              "        \n",
              "  <svg xmlns=\"http://www.w3.org/2000/svg\" height=\"24px\"viewBox=\"0 0 24 24\"\n",
              "       width=\"24px\">\n",
              "    <path d=\"M0 0h24v24H0V0z\" fill=\"none\"/>\n",
              "    <path d=\"M18.56 5.44l.94 2.06.94-2.06 2.06-.94-2.06-.94-.94-2.06-.94 2.06-2.06.94zm-11 1L8.5 8.5l.94-2.06 2.06-.94-2.06-.94L8.5 2.5l-.94 2.06-2.06.94zm10 10l.94 2.06.94-2.06 2.06-.94-2.06-.94-.94-2.06-.94 2.06-2.06.94z\"/><path d=\"M17.41 7.96l-1.37-1.37c-.4-.4-.92-.59-1.43-.59-.52 0-1.04.2-1.43.59L10.3 9.45l-7.72 7.72c-.78.78-.78 2.05 0 2.83L4 21.41c.39.39.9.59 1.41.59.51 0 1.02-.2 1.41-.59l7.78-7.78 2.81-2.81c.8-.78.8-2.07 0-2.86zM5.41 20L4 18.59l7.72-7.72 1.47 1.35L5.41 20z\"/>\n",
              "  </svg>\n",
              "      </button>\n",
              "      \n",
              "  <style>\n",
              "    .colab-df-container {\n",
              "      display:flex;\n",
              "      flex-wrap:wrap;\n",
              "      gap: 12px;\n",
              "    }\n",
              "\n",
              "    .colab-df-convert {\n",
              "      background-color: #E8F0FE;\n",
              "      border: none;\n",
              "      border-radius: 50%;\n",
              "      cursor: pointer;\n",
              "      display: none;\n",
              "      fill: #1967D2;\n",
              "      height: 32px;\n",
              "      padding: 0 0 0 0;\n",
              "      width: 32px;\n",
              "    }\n",
              "\n",
              "    .colab-df-convert:hover {\n",
              "      background-color: #E2EBFA;\n",
              "      box-shadow: 0px 1px 2px rgba(60, 64, 67, 0.3), 0px 1px 3px 1px rgba(60, 64, 67, 0.15);\n",
              "      fill: #174EA6;\n",
              "    }\n",
              "\n",
              "    [theme=dark] .colab-df-convert {\n",
              "      background-color: #3B4455;\n",
              "      fill: #D2E3FC;\n",
              "    }\n",
              "\n",
              "    [theme=dark] .colab-df-convert:hover {\n",
              "      background-color: #434B5C;\n",
              "      box-shadow: 0px 1px 3px 1px rgba(0, 0, 0, 0.15);\n",
              "      filter: drop-shadow(0px 1px 2px rgba(0, 0, 0, 0.3));\n",
              "      fill: #FFFFFF;\n",
              "    }\n",
              "  </style>\n",
              "\n",
              "      <script>\n",
              "        const buttonEl =\n",
              "          document.querySelector('#df-e9339e98-50bc-4497-bc6a-c43aa9790729 button.colab-df-convert');\n",
              "        buttonEl.style.display =\n",
              "          google.colab.kernel.accessAllowed ? 'block' : 'none';\n",
              "\n",
              "        async function convertToInteractive(key) {\n",
              "          const element = document.querySelector('#df-e9339e98-50bc-4497-bc6a-c43aa9790729');\n",
              "          const dataTable =\n",
              "            await google.colab.kernel.invokeFunction('convertToInteractive',\n",
              "                                                     [key], {});\n",
              "          if (!dataTable) return;\n",
              "\n",
              "          const docLinkHtml = 'Like what you see? Visit the ' +\n",
              "            '<a target=\"_blank\" href=https://colab.research.google.com/notebooks/data_table.ipynb>data table notebook</a>'\n",
              "            + ' to learn more about interactive tables.';\n",
              "          element.innerHTML = '';\n",
              "          dataTable['output_type'] = 'display_data';\n",
              "          await google.colab.output.renderOutput(dataTable, element);\n",
              "          const docLink = document.createElement('div');\n",
              "          docLink.innerHTML = docLinkHtml;\n",
              "          element.appendChild(docLink);\n",
              "        }\n",
              "      </script>\n",
              "    </div>\n",
              "  </div>\n",
              "  "
            ]
          },
          "metadata": {},
          "execution_count": 57
        }
      ]
    },
    {
      "cell_type": "code",
      "source": [
        "fig = plt.figure(figsize =(10, 10))\n",
        "plt.pie(weathers_day['count'], labels=weathers_day['weather_day'])\n",
        "plt.show()"
      ],
      "metadata": {
        "colab": {
          "base_uri": "https://localhost:8080/",
          "height": 575
        },
        "id": "SQYAJU4q0jr2",
        "outputId": "2548880f-2ba3-43af-d946-579398e90758"
      },
      "execution_count": null,
      "outputs": [
        {
          "output_type": "display_data",
          "data": {
            "text/plain": [
              "<Figure size 720x720 with 1 Axes>"
            ],
            "image/png": "[encoded data removed]"
          },
          "metadata": {}
        }
      ]
    },
    {
      "cell_type": "code",
      "source": [
        "df.select('weather_day', 'hum_day').groupBy('weather_day').agg(round(avg('hum_day'), 2).alias('AVG')).orderBy('avg').show()"
      ],
      "metadata": {
        "colab": {
          "base_uri": "https://localhost:8080/"
        },
        "id": "X66IVsYp1b8o",
        "outputId": "cce9d633-0946-4b2d-d56b-14b221e2c8fa"
      },
      "execution_count": null,
      "outputs": [
        {
          "output_type": "stream",
          "name": "stdout",
          "text": [
            "+-------------+-----+\n",
            "|  weather_day|  AVG|\n",
            "+-------------+-----+\n",
            "|        dusty|39.04|\n",
            "|    light fog| 39.5|\n",
            "|        clear|47.67|\n",
            "|       cloudy| 54.4|\n",
            "|partly cloudy|56.06|\n",
            "|       stormy|64.44|\n",
            "|     overcast|66.14|\n",
            "|       smoggy| 70.2|\n",
            "|        rainy|84.87|\n",
            "|        snowy|90.05|\n",
            "|        foggy|91.94|\n",
            "|   light rain|98.83|\n",
            "+-------------+-----+\n",
            "\n"
          ]
        }
      ]
    },
    {
      "cell_type": "code",
      "source": [
        "df.select('weather_day', 'temp_day').groupBy('weather_day').agg(round(avg('temp_day'), 2).alias('AVG')).orderBy('avg').show()"
      ],
      "metadata": {
        "colab": {
          "base_uri": "https://localhost:8080/"
        },
        "id": "Ri2KmGl82eCH",
        "outputId": "399a2141-1dc7-4f65-9c5c-1cc0abb4af57"
      },
      "execution_count": null,
      "outputs": [
        {
          "output_type": "stream",
          "name": "stdout",
          "text": [
            "+-------------+-----+\n",
            "|  weather_day|  AVG|\n",
            "+-------------+-----+\n",
            "|        snowy|-5.18|\n",
            "|        foggy|-4.64|\n",
            "|       smoggy|  3.8|\n",
            "|   light rain| 5.08|\n",
            "|     overcast|10.76|\n",
            "|        rainy|10.82|\n",
            "|       cloudy|13.58|\n",
            "|partly cloudy| 14.9|\n",
            "|        dusty|15.84|\n",
            "|    light fog| 16.0|\n",
            "|        clear|16.69|\n",
            "|       stormy|25.44|\n",
            "+-------------+-----+\n",
            "\n"
          ]
        }
      ]
    }
  ]
}